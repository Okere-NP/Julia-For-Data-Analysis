{
 "cells": [
  {
   "cell_type": "markdown",
   "metadata": {},
   "source": [
    "# EXERCISE 4.2\n",
    "Rewrite the code solving the Sicherman puzzle, wrapping the logic of the processing in functions.\n",
    "* Create one function, <kbd>dice_distribution</kbd>, that produces a dictionary with a distribution\n",
    "of the sum of possible combinations of values on two dice passed as its arguments.\n",
    "* Next, write another function, <kbd>test_dice</kbd>, in which you create the <kbd>all_dice</kbd> variable,\n",
    "then the <kbd>two_standard</kbd> variable, \n",
    "* and finally run the main loop comparing the distribution of all dice from the <kbd>all_dice</kbd> vector against the <kbd>two_standard</kbd> distribution."
   ]
  },
  {
   "cell_type": "code",
   "execution_count": 6,
   "metadata": {},
   "outputs": [
    {
     "data": {
      "text/plain": [
       "dice_distribution (generic function with 1 method)"
      ]
     },
     "metadata": {},
     "output_type": "display_data"
    }
   ],
   "source": [
    "function dice_distribution(arg_1, arg_2)\n",
    "    dictionary = Dict{Int, Int}()\n",
    "    for dice_1 in arg_1, dice_2 in arg_2\n",
    "        s = dice_1 + dice_2 # Summation of dice_1 and dice_2 values to obtain the dictionary keys\n",
    "        if haskey(dictionary, s)\n",
    "            dictionary[s] += 1\n",
    "        else\n",
    "            dictionary[s] = 1\n",
    "        end\n",
    "    end\n",
    "end"
   ]
  },
  {
   "cell_type": "code",
   "execution_count": 8,
   "metadata": {},
   "outputs": [
    {
     "data": {
      "text/plain": [
       "test_dice (generic function with 1 method)"
      ]
     },
     "metadata": {},
     "output_type": "display_data"
    }
   ],
   "source": [
    "function test_dice()\n",
    "    # getting the two_standard variable\n",
    "    dice = [1, 2, 3, 4, 5, 6];\n",
    "    two_standard = dice_distribution(dice, dice);\n",
    "    \n",
    "    # getting the all_dice variable\n",
    "    all_dice = [[1, x2, x3, x4, x5, x6]\n",
    "                for x2 in 2:11\n",
    "                for x3 in x2:11\n",
    "                for x4 in x3:11\n",
    "                for x5 in x4:11\n",
    "                for x6 in x5:11\n",
    "    ];\n",
    "\n",
    "    for d1 in all_dice, d2 in all_dice\n",
    "        test = dice_distribution(d1, d2)\n",
    "        if test == two_standard\n",
    "            println(d1, \" \", d2)\n",
    "        end\n",
    "    end\n",
    "\n",
    "end"
   ]
  },
  {
   "cell_type": "code",
   "execution_count": 9,
   "metadata": {},
   "outputs": [
    {
     "name": "stdout",
     "output_type": "stream",
     "text": [
      "[1, 2, 2, 3, 3, 4] [1, 3, 4, 5, 6, 8]\n"
     ]
    },
    {
     "name": "stdout",
     "output_type": "stream",
     "text": [
      "[1, 2, 3, 4, 5, 6] [1, 2, 3, 4, 5, 6]\n"
     ]
    },
    {
     "name": "stdout",
     "output_type": "stream",
     "text": [
      "[1, 3, 4, 5, 6, 8] [1, 2, 2, 3, 3, 4]\n"
     ]
    }
   ],
   "source": [
    "test_dice()"
   ]
  },
  {
   "cell_type": "code",
   "execution_count": null,
   "metadata": {},
   "outputs": [],
   "source": []
  }
 ],
 "metadata": {
  "kernelspec": {
   "display_name": "Julia 1.9.2",
   "language": "julia",
   "name": "julia-1.9"
  },
  "language_info": {
   "file_extension": ".jl",
   "mimetype": "application/julia",
   "name": "julia",
   "version": "1.9.2"
  },
  "orig_nbformat": 4
 },
 "nbformat": 4,
 "nbformat_minor": 2
}
