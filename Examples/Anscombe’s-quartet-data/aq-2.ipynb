{
 "cells": [
  {
   "cell_type": "markdown",
   "metadata": {},
   "source": [
    "## Anscombe’s quartet Data with named tuples\n",
    "Our goal is to perform the following operations on each of these data sets:\n",
    "* Define a named tuple storing Anscombe’s quartet data,\n",
    "* Calculate the mean and standard deviation of x and y variables,\n",
    "* Calculate Pearson’s correlation coefficient of x and y variables,\n",
    "* Fit a linear regression explaining y by x and compute its coefficient of determination R²,\n",
    "* Investigate the data visually by using plots. . ."
   ]
  },
  {
   "cell_type": "code",
   "execution_count": 1,
   "metadata": {},
   "outputs": [
    {
     "data": {
      "text/plain": [
       "11×8 Matrix{Float64}:\n",
       " 10.0   8.04  10.0  9.14  10.0   7.46   8.0   6.58\n",
       "  8.0   6.95   8.0  8.14   8.0   6.77   8.0   5.76\n",
       " 13.0   7.58  13.0  8.74  13.0  12.74   8.0   7.71\n",
       "  9.0   8.81   9.0  8.77   9.0   7.11   8.0   8.84\n",
       " 11.0   8.33  11.0  9.26  11.0   7.81   8.0   8.47\n",
       " 14.0   9.96  14.0  8.1   14.0   8.84   8.0   7.04\n",
       "  6.0   7.24   6.0  6.13   6.0   6.08   8.0   5.25\n",
       "  4.0   4.26   4.0  3.1    4.0   5.39  19.0  12.5\n",
       " 12.0  10.84  12.0  9.13  12.0   8.15   8.0   5.56\n",
       "  7.0   4.82   7.0  7.26   7.0   6.42   8.0   7.91\n",
       "  5.0   5.68   5.0  4.74   5.0   5.73   8.0   6.89"
      ]
     },
     "metadata": {},
     "output_type": "display_data"
    }
   ],
   "source": [
    "# Defining a matrix storing Anscombe’s quartet data\n",
    "aq = [\n",
    "    10.0 8.04 10.0 9.14 10.0 7.46 8.0 6.58\n",
    "    8.0 6.95 8.0 8.14 8.0 6.77 8.0 5.76\n",
    "    13.0 7.58 13.0 8.74 13.0 12.74 8.0 7.71\n",
    "    9.0 8.81 9.0 8.77 9.0 7.11 8.0 8.84\n",
    "    11.0 8.33 11.0 9.26 11.0 7.81 8.0 8.47\n",
    "    14.0 9.96 14.0 8.1 14.0 8.84 8.0 7.04\n",
    "    6.0 7.24 6.0 6.13 6.0 6.08 8.0 5.25\n",
    "    4.0 4.26 4.0 3.1 4.0 5.39 19.0 12.50\n",
    "    12.0 10.84 12.0 9.13 12.0 8.15 8.0 5.56\n",
    "    7.0 4.82 7.0 7.26 7.0 6.42 8.0 7.91\n",
    "    5.0 5.68 5.0 4.74 5.0 5.73 8.0 6.89\n",
    "    ]"
   ]
  },
  {
   "cell_type": "code",
   "execution_count": 8,
   "metadata": {},
   "outputs": [],
   "source": [
    "#  Defining a named tuple storing Anscombe’s quartet data\n",
    "data = (\n",
    "    set1 = (x=aq[:, 1], y=aq[:, 2]),\n",
    "    set2 = (x=aq[:, 3], y=aq[:, 4]),\n",
    "    set3 = (x=aq[:, 5], y=aq[:, 6]),\n",
    "    set4 = (x=aq[:, 7], y=aq[:, 8])\n",
    ");"
   ]
  },
  {
   "cell_type": "markdown",
   "metadata": {},
   "source": [
    "### Analyzing Anscombe’s quartet data stored in a named tuple"
   ]
  },
  {
   "cell_type": "code",
   "execution_count": 12,
   "metadata": {},
   "outputs": [],
   "source": [
    "# Defining Statistics Package Module\n",
    "using Statistics"
   ]
  },
  {
   "cell_type": "markdown",
   "metadata": {},
   "source": [
    "### Mean of the Anscombe's Quartet Data"
   ]
  },
  {
   "cell_type": "code",
   "execution_count": 14,
   "metadata": {},
   "outputs": [
    {
     "data": {
      "text/plain": [
       "(set1 = 9.0, set2 = 9.0, set3 = 9.0, set4 = 9.0)"
      ]
     },
     "metadata": {},
     "output_type": "display_data"
    }
   ],
   "source": [
    "# calculate the means of x variables in each set\n",
    "map(s -> mean(s.x), data)"
   ]
  },
  {
   "cell_type": "code",
   "execution_count": 13,
   "metadata": {},
   "outputs": [
    {
     "data": {
      "text/plain": [
       "(set1 = 7.500909090909093, set2 = 7.500909090909091, set3 = 7.500000000000001, set4 = 7.50090909090909)"
      ]
     },
     "metadata": {},
     "output_type": "display_data"
    }
   ],
   "source": [
    "# calculate the means of y variables in each set\n",
    "map(s -> mean(s.y), data)"
   ]
  },
  {
   "cell_type": "markdown",
   "metadata": {},
   "source": [
    "### Standard Deviation of the Anscombe's Quartet Data"
   ]
  },
  {
   "cell_type": "code",
   "execution_count": 21,
   "metadata": {},
   "outputs": [
    {
     "data": {
      "text/plain": [
       "(set1 = 3.3166247903554, set2 = 3.3166247903554, set3 = 3.3166247903554, set4 = 3.3166247903554)"
      ]
     },
     "metadata": {},
     "output_type": "display_data"
    }
   ],
   "source": [
    "# calculate the standard deviation of x variables in each set\n",
    "map(s -> std(s.x), data)"
   ]
  },
  {
   "cell_type": "code",
   "execution_count": 22,
   "metadata": {},
   "outputs": [
    {
     "data": {
      "text/plain": [
       "(set1 = 2.031568135925815, set2 = 2.0316567355016177, set3 = 2.030423601123667, set4 = 2.0305785113876023)"
      ]
     },
     "metadata": {},
     "output_type": "display_data"
    }
   ],
   "source": [
    "# calculate the standard deviation of y variables in each set\n",
    "map(s -> std(s.y), data)"
   ]
  },
  {
   "cell_type": "markdown",
   "metadata": {},
   "source": [
    "### Pearson’s correlation coefficient of x and y variables"
   ]
  },
  {
   "cell_type": "code",
   "execution_count": 17,
   "metadata": {},
   "outputs": [
    {
     "data": {
      "text/plain": [
       "(set1 = 0.8164205163448398, set2 = 0.8162365060002429, set3 = 0.8162867394895983, set4 = 0.8165214368885028)"
      ]
     },
     "metadata": {},
     "output_type": "display_data"
    }
   ],
   "source": [
    "# Calculation of Pearson’s correlation of x and y varaibles in each set\n",
    "map(s -> cor(s.x, s.y), data)"
   ]
  },
  {
   "cell_type": "markdown",
   "metadata": {},
   "source": [
    "###  Fitting a linear regression explaining y by x"
   ]
  },
  {
   "cell_type": "code",
   "execution_count": 24,
   "metadata": {},
   "outputs": [],
   "source": [
    "# Defining GLM Package Module\n",
    "using GLM"
   ]
  },
  {
   "cell_type": "code",
   "execution_count": 44,
   "metadata": {},
   "outputs": [
    {
     "data": {
      "text/plain": [
       "StatsModels.TableRegressionModel{LinearModel{GLM.LmResp{Vector{Float64}}, GLM.DensePredChol{Float64, LinearAlgebra.CholeskyPivoted{Float64, Matrix{Float64}, Vector{Int64}}}}, Matrix{Float64}}\n",
       "\n",
       "y ~ 1 + x\n",
       "\n",
       "Coefficients:\n",
       "───────────────────────────────────────────────────────────────────────\n",
       "                Coef.  Std. Error     t  Pr(>|t|)  Lower 95%  Upper 95%\n",
       "───────────────────────────────────────────────────────────────────────\n",
       "(Intercept)  3.00009     1.12475   2.67    0.0257   0.455737   5.54444\n",
       "x            0.500091    0.117906  4.24    0.0022   0.23337    0.766812\n",
       "───────────────────────────────────────────────────────────────────────"
      ]
     },
     "metadata": {},
     "output_type": "display_data"
    }
   ],
   "source": [
    "# using the GLM.jl package to fit a linear model for the first data set\n",
    "model = lm(@formula(y ~ x), data.set1)"
   ]
  },
  {
   "cell_type": "code",
   "execution_count": 45,
   "metadata": {},
   "outputs": [
    {
     "data": {
      "text/plain": [
       "0.6665424595087749"
      ]
     },
     "metadata": {},
     "output_type": "display_data"
    }
   ],
   "source": [
    "# using the r2 function from GLM.jl package to calculate the coefficient of determination of our model\n",
    "r2(model)"
   ]
  },
  {
   "cell_type": "code",
   "execution_count": null,
   "metadata": {},
   "outputs": [],
   "source": []
  }
 ],
 "metadata": {
  "kernelspec": {
   "display_name": "Julia 1.9.2",
   "language": "julia",
   "name": "julia-1.9"
  },
  "language_info": {
   "file_extension": ".jl",
   "mimetype": "application/julia",
   "name": "julia",
   "version": "1.9.2"
  },
  "orig_nbformat": 4
 },
 "nbformat": 4,
 "nbformat_minor": 2
}
