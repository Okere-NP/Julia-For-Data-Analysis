{
 "cells": [
  {
   "attachments": {},
   "cell_type": "markdown",
   "metadata": {},
   "source": [
    "## Anscombe’s quartet Data"
   ]
  },
  {
   "cell_type": "code",
   "execution_count": null,
   "metadata": {},
   "outputs": [],
   "source": [
    "# Defining a matrix storing Anscombe’s quartet data\n",
    "aq = [\n",
    "    10.0 8.04 10.0 9.14 10.0 7.46 8.0 6.58\n",
    "    8.0 6.95 8.0 8.14 8.0 6.77 8.0 5.76\n",
    "    13.0 7.58 13.0 8.74 13.0 12.74 8.0 7.71\n",
    "    9.0 8.81 9.0 8.77 9.0 7.11 8.0 8.84\n",
    "    11.0 8.33 11.0 9.26 11.0 7.81 8.0 8.47\n",
    "    14.0 9.96 14.0 8.1 14.0 8.84 8.0 7.04\n",
    "    6.0 7.24 6.0 6.13 6.0 6.08 8.0 5.25\n",
    "    4.0 4.26 4.0 3.1 4.0 5.39 19.0 12.50\n",
    "    12.0 10.84 12.0 9.13 12.0 8.15 8.0 5.56\n",
    "    7.0 4.82 7.0 7.26 7.0 6.42 8.0 7.91\n",
    "    5.0 5.68 5.0 4.74 5.0 5.73 8.0 6.89\n",
    "    ]"
   ]
  },
  {
   "cell_type": "code",
   "execution_count": null,
   "metadata": {},
   "outputs": [],
   "source": [
    "# Defining Statistics Module\n",
    "using Statistics"
   ]
  },
  {
   "attachments": {},
   "cell_type": "markdown",
   "metadata": {},
   "source": [
    "### Mean of the Anscombe's Quartet Data"
   ]
  },
  {
   "cell_type": "code",
   "execution_count": null,
   "metadata": {},
   "outputs": [],
   "source": [
    "# Getting the mean of the aq matrix\n",
    "mean(aq; dims=1);"
   ]
  },
  {
   "attachments": {},
   "cell_type": "markdown",
   "metadata": {},
   "source": [
    "#### Alternative of getting the mean of the aq matrix"
   ]
  },
  {
   "cell_type": "code",
   "execution_count": null,
   "metadata": {},
   "outputs": [],
   "source": [
    "# using list comprehension\n",
    "[mean(col) for col in eachcol(aq)];\n"
   ]
  },
  {
   "cell_type": "code",
   "execution_count": null,
   "metadata": {},
   "outputs": [],
   "source": [
    "# using map function\n",
    "map(mean, eachcol(aq));"
   ]
  },
  {
   "cell_type": "code",
   "execution_count": null,
   "metadata": {},
   "outputs": [],
   "source": [
    "# using do-end notation\n",
    "map(eachcol(aq)) do col\n",
    "    mean(col)\n",
    "end;"
   ]
  },
  {
   "cell_type": "code",
   "execution_count": null,
   "metadata": {},
   "outputs": [],
   "source": [
    "[mean(@view aq[:,j]) for j in axes(aq, 2)]"
   ]
  },
  {
   "attachments": {},
   "cell_type": "markdown",
   "metadata": {},
   "source": [
    "### Standard Deviation of the Anscombe's Quartet Data"
   ]
  },
  {
   "cell_type": "code",
   "execution_count": null,
   "metadata": {},
   "outputs": [],
   "source": [
    "# Getting standard deviation of the aq matrix\n",
    "std(aq; dims=1)"
   ]
  },
  {
   "attachments": {},
   "cell_type": "markdown",
   "metadata": {},
   "source": [
    "#### Alternative of getting the standard deviation of the aq matrix"
   ]
  },
  {
   "cell_type": "code",
   "execution_count": null,
   "metadata": {},
   "outputs": [],
   "source": [
    "# using list comprehension\n",
    "[std(col) for col in eachcol(aq)];"
   ]
  },
  {
   "cell_type": "code",
   "execution_count": null,
   "metadata": {},
   "outputs": [],
   "source": [
    "# using map function\n",
    "map(std, eachcol(aq));"
   ]
  },
  {
   "cell_type": "code",
   "execution_count": null,
   "metadata": {},
   "outputs": [],
   "source": [
    "# using do-end notation\n",
    "map(eachcol(aq)) do col\n",
    "    std(col)\n",
    "end;"
   ]
  },
  {
   "cell_type": "code",
   "execution_count": null,
   "metadata": {},
   "outputs": [],
   "source": [
    "[std(@view aq[:, j]) for j in axes(aq, 2)]"
   ]
  },
  {
   "attachments": {},
   "cell_type": "markdown",
   "metadata": {},
   "source": [
    "### Correlations between variables"
   ]
  },
  {
   "cell_type": "code",
   "execution_count": null,
   "metadata": {},
   "outputs": [],
   "source": [
    "# Calculating correlations between variables\n",
    "[cor(aq[:, i], aq[:, i+1]) for i in 1:2:7]"
   ]
  },
  {
   "cell_type": "code",
   "execution_count": null,
   "metadata": {},
   "outputs": [],
   "source": []
  }
 ],
 "metadata": {
  "kernelspec": {
   "display_name": "Julia 1.9.1",
   "language": "julia",
   "name": "julia-1.9"
  },
  "language_info": {
   "file_extension": ".jl",
   "mimetype": "application/julia",
   "name": "julia",
   "version": "1.9.1"
  },
  "orig_nbformat": 4
 },
 "nbformat": 4,
 "nbformat_minor": 2
}
