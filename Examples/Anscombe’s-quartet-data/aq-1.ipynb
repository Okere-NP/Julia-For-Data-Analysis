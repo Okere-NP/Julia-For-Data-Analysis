{
 "cells": [
  {
   "attachments": {},
   "cell_type": "markdown",
   "metadata": {},
   "source": [
    "## Anscombe’s quartet Data without dictionary\n",
    "\n",
    "Our goal is to perform the following operations on each of these data sets:\n",
    "* Calculate the mean and standard deviation of x and y variables,\n",
    "* Calculate Pearson’s correlation coefficient of x and y variables,\n",
    "* Fit a linear regression explaining y by x and compute its coefficient of determination R²,\n",
    "* Investigate the data visually by using plots. . ."
   ]
  },
  {
   "cell_type": "code",
   "execution_count": null,
   "metadata": {},
   "outputs": [],
   "source": [
    "# Defining a matrix storing Anscombe’s quartet data\n",
    "aq = [\n",
    "    10.0 8.04 10.0 9.14 10.0 7.46 8.0 6.58\n",
    "    8.0 6.95 8.0 8.14 8.0 6.77 8.0 5.76\n",
    "    13.0 7.58 13.0 8.74 13.0 12.74 8.0 7.71\n",
    "    9.0 8.81 9.0 8.77 9.0 7.11 8.0 8.84\n",
    "    11.0 8.33 11.0 9.26 11.0 7.81 8.0 8.47\n",
    "    14.0 9.96 14.0 8.1 14.0 8.84 8.0 7.04\n",
    "    6.0 7.24 6.0 6.13 6.0 6.08 8.0 5.25\n",
    "    4.0 4.26 4.0 3.1 4.0 5.39 19.0 12.50\n",
    "    12.0 10.84 12.0 9.13 12.0 8.15 8.0 5.56\n",
    "    7.0 4.82 7.0 7.26 7.0 6.42 8.0 7.91\n",
    "    5.0 5.68 5.0 4.74 5.0 5.73 8.0 6.89\n",
    "    ]"
   ]
  },
  {
   "cell_type": "code",
   "execution_count": null,
   "metadata": {},
   "outputs": [],
   "source": [
    "# Defining Statistics Package Module\n",
    "using Statistics"
   ]
  },
  {
   "attachments": {},
   "cell_type": "markdown",
   "metadata": {},
   "source": [
    "### Mean of the Anscombe's Quartet Data"
   ]
  },
  {
   "cell_type": "code",
   "execution_count": null,
   "metadata": {},
   "outputs": [],
   "source": [
    "# Getting the mean of the aq matrix\n",
    "mean(aq; dims=1);"
   ]
  },
  {
   "attachments": {},
   "cell_type": "markdown",
   "metadata": {},
   "source": [
    "#### Alternative of getting the mean of the aq matrix"
   ]
  },
  {
   "cell_type": "code",
   "execution_count": null,
   "metadata": {},
   "outputs": [],
   "source": [
    "# using list comprehension\n",
    "[mean(col) for col in eachcol(aq)];\n"
   ]
  },
  {
   "cell_type": "code",
   "execution_count": null,
   "metadata": {},
   "outputs": [],
   "source": [
    "# using map function\n",
    "map(mean, eachcol(aq));"
   ]
  },
  {
   "cell_type": "code",
   "execution_count": null,
   "metadata": {},
   "outputs": [],
   "source": [
    "# using do-end notation\n",
    "map(eachcol(aq)) do col\n",
    "    mean(col)\n",
    "end;"
   ]
  },
  {
   "cell_type": "code",
   "execution_count": null,
   "metadata": {},
   "outputs": [],
   "source": [
    "[mean(@view aq[:,j]) for j in axes(aq, 2)]"
   ]
  },
  {
   "attachments": {},
   "cell_type": "markdown",
   "metadata": {},
   "source": [
    "### Standard Deviation of the Anscombe's Quartet Data"
   ]
  },
  {
   "cell_type": "code",
   "execution_count": null,
   "metadata": {},
   "outputs": [],
   "source": [
    "# Getting standard deviation of the aq matrix\n",
    "std(aq; dims=1)"
   ]
  },
  {
   "attachments": {},
   "cell_type": "markdown",
   "metadata": {},
   "source": [
    "#### Alternative of getting the standard deviation of the aq matrix"
   ]
  },
  {
   "cell_type": "code",
   "execution_count": null,
   "metadata": {},
   "outputs": [],
   "source": [
    "# using list comprehension\n",
    "[std(col) for col in eachcol(aq)];"
   ]
  },
  {
   "cell_type": "code",
   "execution_count": null,
   "metadata": {},
   "outputs": [],
   "source": [
    "# using map function\n",
    "map(std, eachcol(aq));"
   ]
  },
  {
   "cell_type": "code",
   "execution_count": null,
   "metadata": {},
   "outputs": [],
   "source": [
    "# using do-end notation\n",
    "map(eachcol(aq)) do col\n",
    "    std(col)\n",
    "end;"
   ]
  },
  {
   "cell_type": "code",
   "execution_count": null,
   "metadata": {},
   "outputs": [],
   "source": [
    "[std(@view aq[:, j]) for j in axes(aq, 2)]"
   ]
  },
  {
   "attachments": {},
   "cell_type": "markdown",
   "metadata": {},
   "source": [
    "### Pearson’s correlation coefficient of x and y variables"
   ]
  },
  {
   "cell_type": "code",
   "execution_count": null,
   "metadata": {},
   "outputs": [],
   "source": [
    "# Calculating correlations between variables\n",
    "[cor(aq[:, i], aq[:, i+1]) for i in 1:2:7]"
   ]
  },
  {
   "cell_type": "markdown",
   "metadata": {},
   "source": [
    "###  Fitting a linear regression explaining y by x"
   ]
  },
  {
   "cell_type": "code",
   "execution_count": null,
   "metadata": {},
   "outputs": [],
   "source": [
    "# Getting all elements in the 2nd column\n",
    "y = aq[:, 2]"
   ]
  },
  {
   "cell_type": "code",
   "execution_count": null,
   "metadata": {},
   "outputs": [],
   "source": [
    "# Getting ones of the row length and all elements in the 1st column\n",
    "X = [ones(11) aq[:, 1]]"
   ]
  },
  {
   "cell_type": "code",
   "execution_count": null,
   "metadata": {},
   "outputs": [],
   "source": [
    "X \\ y"
   ]
  },
  {
   "cell_type": "code",
   "execution_count": null,
   "metadata": {},
   "outputs": [],
   "source": [
    "[[ones(11) aq[:, i]] \\ aq[:, i+1] for i in 1:2:7]"
   ]
  },
  {
   "cell_type": "markdown",
   "metadata": {},
   "source": [
    "### R² coefficient of determination\n",
    "Genaral Formula: 1 - SSᵣₑₛ\\SSₜₒₜ\n",
    "```\n",
    "1. SSᵣₑₛ stands for the sum of square of residuals\n",
    "Formula: SSᵣₑₛ = ⁿ∑ᵢ₌₁(yᵢ - f(xᵢ))\n",
    "where:\n",
    "    yᵢ is the iᵗʰ value of the variable to be predicted.\n",
    "    xᵢ is the iᵗʰ value of the explanatory variable.\n",
    "    f(xᵢ) is the predicted value of yᵢ.\n",
    "    n is the total number of observations.\n",
    "\n",
    "2. SSₜₒₜ stands for the sum of square total\n",
    "Formula: SSₜₒₜ = ⁿ∑ᵢ₌₁(yᵢ - ȳ)\n",
    "where:\n",
    "    yᵢ is the iᵗʰ value of the variable to be predicted.\n",
    "    ȳ is the overall mean value of a sample.\n",
    "    n is the total number of observations.\n",
    "```\n",
    "    "
   ]
  },
  {
   "cell_type": "code",
   "execution_count": null,
   "metadata": {},
   "outputs": [],
   "source": [
    "function R²(x, y)\n",
    "    n = length(axes(aq, 1)) # The total number of observations being 11\n",
    "    X = [ones(n) x]\n",
    "    model = X \\ y\n",
    "\n",
    "    prediction = X * model # f(xᵢ)\n",
    "    error = y - prediction # yᵢ - f(xᵢ)\n",
    "    mean_y = mean(y) # Overall mean value of the sample\n",
    "    \n",
    "    # Getting the sum square of Residuals and overall Total\n",
    "    SS_res = sum(v -> v^2, error) # ⁿ∑ᵢ₌₁(yᵢ - f(xᵢ))\n",
    "    SS_tot = sum(v -> (v - mean_y)^2, y) # ⁿ∑ᵢ₌₁(yᵢ - ȳ)\n",
    "\n",
    "    R_square = 1 - SS_res/SS_tot\n",
    "    return R_square\n",
    "end"
   ]
  },
  {
   "cell_type": "code",
   "execution_count": null,
   "metadata": {},
   "outputs": [],
   "source": [
    "[R²(aq[:, i], aq[:, i+1]) for i in 1:2:7]"
   ]
  },
  {
   "cell_type": "markdown",
   "metadata": {},
   "source": [
    "### Plotting the Anscombe’s quartet data"
   ]
  },
  {
   "cell_type": "code",
   "execution_count": null,
   "metadata": {},
   "outputs": [],
   "source": [
    "# Defining Plots Package Module\n",
    "using Plots"
   ]
  },
  {
   "cell_type": "code",
   "execution_count": null,
   "metadata": {},
   "outputs": [],
   "source": [
    "scatter(aq[:, 1], aq[:, 2]; legend=false);"
   ]
  },
  {
   "cell_type": "code",
   "execution_count": null,
   "metadata": {},
   "outputs": [],
   "source": [
    "# using plot function and list comprehension\n",
    "plot(\n",
    "    [scatter(aq[:, i], aq[:, i+1]; legend=false)\n",
    "    for i in 1:2:7]...\n",
    ")"
   ]
  },
  {
   "cell_type": "code",
   "execution_count": null,
   "metadata": {},
   "outputs": [],
   "source": []
  }
 ],
 "metadata": {
  "kernelspec": {
   "display_name": "Julia 1.9.2",
   "language": "julia",
   "name": "julia-1.9"
  },
  "language_info": {
   "file_extension": ".jl",
   "mimetype": "application/julia",
   "name": "julia",
   "version": "1.9.2"
  },
  "orig_nbformat": 4
 },
 "nbformat": 4,
 "nbformat_minor": 2
}
